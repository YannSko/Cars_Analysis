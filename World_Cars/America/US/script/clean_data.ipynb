{
 "cells": [
  {
   "cell_type": "code",
   "execution_count": 24,
   "metadata": {},
   "outputs": [
    {
     "name": "stdout",
     "output_type": "stream",
     "text": [
      "Erreur lors de la lecture du fichier : E:\\GITHUB\\Cars_Analysis\\World_Cars\\America\\US\\script\\car_details_usedcargroup.csv\n",
      "Message d'erreur : Error tokenizing data. C error: Expected 6 fields in line 9, saw 8\n",
      "\n",
      "Fichiers trouvés : ['E:\\\\GITHUB\\\\Cars_Analysis\\\\World_Cars\\\\America\\\\US\\\\script\\\\car_details_autotrader.csv', 'E:\\\\GITHUB\\\\Cars_Analysis\\\\World_Cars\\\\America\\\\US\\\\script\\\\car_details_usedcargroup.csv', 'E:\\\\GITHUB\\\\Cars_Analysis\\\\World_Cars\\\\America\\\\US\\\\script\\\\fichier_nettoye3.csv']\n",
      "Fusion terminée. Fichier enregistré à E:\\GITHUB\\Cars_Analysis\\World_Cars\\America\\US\\script\\fichier_nettoye3.csv\n"
     ]
    }
   ],
   "source": [
    "import pandas as pd\n",
    "import glob\n",
    "\n",
    "# Chemin du dossier contenant les fichiers CSV à fusionner\n",
    "dossier_csv = r'E:\\GITHUB\\Cars_Analysis\\World_Cars\\America\\US\\script'\n",
    "\n",
    "# Modèle de nom de fichier (par exemple, tous les fichiers avec l'extension .csv)\n",
    "modele_fichier = '*.csv'\n",
    "\n",
    "# Liste pour stocker les DataFrames de chaque fichier\n",
    "list_df = []\n",
    "\n",
    "# Lire tous les fichiers CSV dans le dossier spécifié\n",
    "for fichier_csv in glob.glob(dossier_csv + \"\\\\\" + modele_fichier):\n",
    "    try:\n",
    "        df = pd.read_csv(fichier_csv)\n",
    "        list_df.append(df)\n",
    "    except pd.errors.ParserError as e:\n",
    "        print(f\"Erreur lors de la lecture du fichier : {fichier_csv}\")\n",
    "        print(f\"Message d'erreur : {e}\")\n",
    "\n",
    "# Vérifier les fichiers trouvés\n",
    "print(\"Fichiers trouvés :\", glob.glob(dossier_csv + \"\\\\\" + modele_fichier))\n",
    "\n",
    "# Vérifier si la liste des DataFrames est vide\n",
    "if not list_df:\n",
    "    print(\"Aucun fichier CSV trouvé dans le dossier spécifié.\")\n",
    "else:\n",
    "    # Fusionner les DataFrames en un seul\n",
    "    df_merged = pd.concat(list_df, ignore_index=True)\n",
    "\n",
    "    # Afficher toutes les colonnes sans tronquer\n",
    "    pd.set_option('display.max_columns', None)\n",
    "\n",
    "    # Enregistrer le fichier fusionné\n",
    "    fichier_fusionne3 = r'E:\\GITHUB\\Cars_Analysis\\World_Cars\\America\\US\\script\\fichier_nettoye3.csv'\n",
    "    df_merged.to_csv(fichier_fusionne3, index=False)\n",
    "\n",
    "    print(\"Fusion terminée. Fichier enregistré à\", fichier_fusionne3)\n"
   ]
  }
 ],
 "metadata": {
  "kernelspec": {
   "display_name": "base",
   "language": "python",
   "name": "python3"
  },
  "language_info": {
   "codemirror_mode": {
    "name": "ipython",
    "version": 3
   },
   "file_extension": ".py",
   "mimetype": "text/x-python",
   "name": "python",
   "nbconvert_exporter": "python",
   "pygments_lexer": "ipython3",
   "version": "3.11.5"
  }
 },
 "nbformat": 4,
 "nbformat_minor": 2
}
