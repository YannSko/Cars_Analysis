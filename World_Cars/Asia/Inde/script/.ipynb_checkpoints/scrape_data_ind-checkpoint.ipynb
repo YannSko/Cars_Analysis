{
 "cells": [
  {
   "cell_type": "markdown",
   "id": "4c7150d4-b456-4b66-8d97-282afa699429",
   "metadata": {},
   "source": [
    "# Scrape India\n",
    "\n",
    "Get the site : https://www.carwale.com/used/cars-for-sale/"
   ]
  },
  {
   "cell_type": "markdown",
   "id": "dd1cca0f-1205-456a-bb98-f404d1a515cc",
   "metadata": {},
   "source": [
    "## Import"
   ]
  },
  {
   "cell_type": "code",
   "execution_count": 1,
   "id": "35edb4d4-10af-4447-b080-7cb546f494c0",
   "metadata": {},
   "outputs": [],
   "source": [
    "from selenium import webdriver\n",
    "from selenium.webdriver.common.keys import Keys\n",
    "from selenium.webdriver.support.ui import WebDriverWait\n",
    "from selenium.webdriver.common.by import By\n",
    "from selenium.webdriver.support import expected_conditions as EC\n",
    "from selenium.common.exceptions import TimeoutException\n",
    "import pandas as pd\n",
    "import urllib\n",
    "import re\n",
    "import requests\n",
    "import csv\n",
    "import os\n",
    "import time\n",
    "from concurrent.futures import ThreadPoolExecutor\n",
    "from selenium.webdriver.common.service import Service\n",
    "from selenium.webdriver.common.service import Service\n",
    "from fake_useragent import UserAgent\n",
    "from urllib3.exceptions import NewConnectionError\n",
    "import logging\n",
    "from datetime import datetime, timedelta\n",
    "from selenium.common.exceptions import ElementClickInterceptedException\n",
    "from selenium.webdriver.firefox.options import Options\n",
    "import pandas as pd \n",
    "import numpy as np \n",
    "\n",
    "import random\n",
    "from selenium.webdriver.common.action_chains import ActionChains\n",
    "from itertools import combinations\n",
    "import time\n",
    "import random\n",
    "from selenium import webdriver\n",
    "from selenium.webdriver.common.by import By\n",
    "from selenium.common.exceptions import NoSuchElementException, StaleElementReferenceException\n",
    "from fake_useragent import UserAgent"
   ]
  },
  {
   "cell_type": "markdown",
   "id": "202a482a-7423-46dc-8395-beab0772b698",
   "metadata": {},
   "source": [
    "## Fonctions Annexe"
   ]
  },
  {
   "cell_type": "code",
   "execution_count": null,
   "id": "6b991270-d406-49d5-9289-4d3b45374bac",
   "metadata": {},
   "outputs": [],
   "source": [
    "def click_button(driver, xpath, timeout=10, max_retries=3):\n",
    "    for retry in range(max_retries):\n",
    "        try:\n",
    "            \n",
    "            bouton = WebDriverWait(driver, timeout).until(\n",
    "                EC.presence_of_element_located((By.XPATH, xpath))\n",
    "            )\n",
    "\n",
    "            \n",
    "            WebDriverWait(driver, timeout).until(\n",
    "                EC.element_to_be_clickable((By.XPATH, xpath))\n",
    "            )\n",
    "\n",
    "           on\n",
    "            bouton.click()\n",
    "\n",
    "            print(\"Le bouton a été cliqué avec succès.\")\n",
    "            return True  #\n",
    "\n",
    "        except TimeoutException:\n",
    "            print(f\"Timeout de {timeout} secondes atteint. Réessai {retry + 1}/{max_retries}.\")\n",
    "\n",
    "        except StaleElementReferenceException:\n",
    "            print(f\"Stale Element Reference Exception. Réessai {retry + 1}/{max_retries}.\")\n",
    "\n",
    "    print(f\"Impossible de trouver et cliquer sur le bouton après {max_retries} tentatives.\")\n",
    "    return False"
   ]
  },
  {
   "cell_type": "code",
   "execution_count": null,
   "id": "1efcbf0b-b69f-4c3f-ab31-db831ea6686a",
   "metadata": {},
   "outputs": [],
   "source": [
    "def scrape_content(xpath, content_type='text', max_retries=3, timeout=10):\n",
    "    for retry in range(max_retries):\n",
    "        try:\n",
    "            \n",
    "\n",
    "            # Attendre que l'élément soit présent dans le DOM\n",
    "            element_present = EC.presence_of_element_located((By.XPATH, xpath))\n",
    "            WebDriverWait(driver, timeout).until(element_present)\n",
    "\n",
    "            # Trouver tous les éléments correspondant à l'XPath fourni\n",
    "            elements = driver.find_elements(By.XPATH, xpath)\n",
    "           \n",
    "\n",
    "            # Attendre que l'élément soit cliquable\n",
    "            WebDriverWait(driver, timeout).until(\n",
    "                EC.presence_of_all_elements_located((By.XPATH, xpath))\n",
    "            )\n",
    "\n",
    "            # Extraire le contenu spécifié pour chaque élément\n",
    "            if content_type == 'text':\n",
    "                result = [element.text for element in elements]\n",
    "            elif content_type == 'href':\n",
    "                result = [element.get_attribute('href') for element in elements]\n",
    "            else:\n",
    "                raise ValueError(\"Type de contenu non pris en charge. Utilisez 'text' ou 'href'.\")\n",
    "\n",
    "            return result\n",
    "\n",
    "        except TimeoutException:\n",
    "            print(f\"Timeout de {timeout} secondes atteint. Réessai {retry + 1}/{max_retries}.\")\n",
    "\n",
    "        except NoSuchElementException:\n",
    "            print(f\"Élément non trouvé. Vérifiez votre XPath. Réessai {retry + 1}/{max_retries}.\")\n",
    "\n",
    "        except StaleElementReferenceException:\n",
    "            print(f\"Stale Element Reference Exception. L'élément n'est plus attaché au DOM. Réessai {retry + 1}/{max_retries}.\")\n",
    "\n",
    "        except Exception as e:\n",
    "            print(f\"Une erreur s'est produite : {str(e)}\")\n",
    "\n",
    "    print(f\"Impossible de trouver et extraire le contenu après {max_retries} tentatives.\")\n",
    "    return []"
   ]
  },
  {
   "cell_type": "markdown",
   "id": "c1ccb79e-9ec9-4294-be52-bf4dc39c0bad",
   "metadata": {},
   "source": [
    "## lien_ xpath utilisé"
   ]
  },
  {
   "cell_type": "code",
   "execution_count": null,
   "id": "4ba7d57a-7115-49b5-a721-bba92f6d60ab",
   "metadata": {},
   "outputs": [],
   "source": [
    "lien du bouton de la pop( entrée de site) up selection de ville : \"//span[contains(@class, 'o-frwuxB o-brXWGL o-cjsCNH o-dAFptd o-cDoIpQ o-cpnuEd o-dsiSgT o-NBTwp o-fuiuOo o-eoatGj dbDC7A o-eNbQSA o-brXWGL o-fzoTtm o-fmSMPH o-fznJFh o-fzptUA o-emXQxE o-fzptYC o-evuuYC\n",
    "')]\n",
    "lien xpath des pages vehicules : \" //div[@class='o-bqHweY o-bfyaNx o-brXWGL o-eYMbrh yWooCL']//a \"\n",
    "\n",
    "Données intra page : \n",
    "    nom vehicule = h1 de class o-dAvrcB o-eZTujG o-eqqVmt : le texte\n",
    "dans div_class:o-bWHzMb o-ducbvd o-cglRxs YONMcZ o-fpkJwH o-dCyDMp  // div_class :lwnY3h l9NkHx o-YCHtV o-djSZRV o-cDkpxz o-bIMsfE o-dgboEW o-eZrAYv o-fbEicu o-bCRRBE // les divs de class : o-fzoTtm o-fzptYC o-eqqVmt o-bkmzIL . je veux recuperer tout les textes\n",
    "il y a comme variable :prix_kilometre_type dessence _ année denregistrement_année manufacture_ numeror proprio_ transmission _ location _ assurance _ type enregistrement_ derniere update\n",
    "\n",
    "Specification : \n",
    "    tout le contenu dans du ul de class : o-cpnuEd o-bmFSid o-eEgygU o-forcxc o-aLrhU o-bVSleT o-dMAfbA o-bKsToU o-bxvtPy  Y4cKso"
   ]
  }
 ],
 "metadata": {
  "kernelspec": {
   "display_name": "Python 3 (ipykernel)",
   "language": "python",
   "name": "python3"
  },
  "language_info": {
   "codemirror_mode": {
    "name": "ipython",
    "version": 3
   },
   "file_extension": ".py",
   "mimetype": "text/x-python",
   "name": "python",
   "nbconvert_exporter": "python",
   "pygments_lexer": "ipython3",
   "version": "3.9.13"
  }
 },
 "nbformat": 4,
 "nbformat_minor": 5
}
