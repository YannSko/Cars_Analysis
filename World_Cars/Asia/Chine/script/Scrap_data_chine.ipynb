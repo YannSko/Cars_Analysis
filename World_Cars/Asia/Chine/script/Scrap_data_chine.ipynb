{
 "cells": [
  {
   "cell_type": "markdown",
   "id": "f8c36202-1e1b-480f-bada-654705b5ceb9",
   "metadata": {},
   "source": [
    "## Scrappe Chine\n",
    "che168\n",
    "site web : hhttp://www.che168.com/china/list/#pvareaid=100945"
   ]
  },
  {
   "cell_type": "markdown",
   "id": "5b5a3244-f152-4002-8d75-ac70bc8e2706",
   "metadata": {},
   "source": [
    "## Import"
   ]
  },
  {
   "cell_type": "code",
   "execution_count": 1,
   "id": "b0ec6975-3047-4d02-986f-ff93fe95d349",
   "metadata": {},
   "outputs": [],
   "source": [
    "from selenium import webdriver\n",
    "from selenium.webdriver.common.keys import Keys\n",
    "from selenium.webdriver.support.ui import WebDriverWait\n",
    "from selenium.webdriver.common.by import By\n",
    "from selenium.webdriver.support import expected_conditions as EC\n",
    "from selenium.common.exceptions import TimeoutException\n",
    "import pandas as pd\n",
    "import urllib\n",
    "import re\n",
    "import requests\n",
    "import csv\n",
    "import os\n",
    "import time\n",
    "from concurrent.futures import ThreadPoolExecutor\n",
    "from selenium.webdriver.common.service import Service\n",
    "from selenium.webdriver.common.service import Service\n",
    "from fake_useragent import UserAgent\n",
    "from urllib3.exceptions import NewConnectionError\n",
    "import logging\n",
    "from datetime import datetime, timedelta\n",
    "from selenium.common.exceptions import ElementClickInterceptedException\n",
    "from selenium.webdriver.firefox.options import Options\n",
    "import pandas as pd \n",
    "import numpy as np \n",
    "\n",
    "import random\n",
    "from selenium.webdriver.common.action_chains import ActionChains\n",
    "from itertools import combinations\n",
    "import time\n",
    "import random\n",
    "from selenium import webdriver\n",
    "from selenium.webdriver.common.by import By\n",
    "from selenium.common.exceptions import NoSuchElementException, StaleElementReferenceException\n",
    "from fake_useragent import UserAgent"
   ]
  },
  {
   "cell_type": "markdown",
   "id": "c188fd8b-5c26-45a4-aad1-6552a3e292fc",
   "metadata": {},
   "source": [
    "## Fonctions Annexe"
   ]
  },
  {
   "cell_type": "code",
   "execution_count": null,
   "id": "2b56c544-e4bd-489c-96d4-25637f2317ed",
   "metadata": {},
   "outputs": [],
   "source": [
    "def click_button(driver, xpath, timeout=10, max_retries=3):\n",
    "    for retry in range(max_retries):\n",
    "        try:\n",
    "            \n",
    "            bouton = WebDriverWait(driver, timeout).until(\n",
    "                EC.presence_of_element_located((By.XPATH, xpath))\n",
    "            )\n",
    "\n",
    "            \n",
    "            WebDriverWait(driver, timeout).until(\n",
    "                EC.element_to_be_clickable((By.XPATH, xpath))\n",
    "            )\n",
    "\n",
    "           on\n",
    "            bouton.click()\n",
    "\n",
    "            print(\"Le bouton a été cliqué avec succès.\")\n",
    "            return True  #\n",
    "\n",
    "        except TimeoutException:\n",
    "            print(f\"Timeout de {timeout} secondes atteint. Réessai {retry + 1}/{max_retries}.\")\n",
    "\n",
    "        except StaleElementReferenceException:\n",
    "            print(f\"Stale Element Reference Exception. Réessai {retry + 1}/{max_retries}.\")\n",
    "\n",
    "    print(f\"Impossible de trouver et cliquer sur le bouton après {max_retries} tentatives.\")\n",
    "    return False"
   ]
  },
  {
   "cell_type": "code",
   "execution_count": null,
   "id": "4dac77ef-040d-479d-a419-26e9e11dc365",
   "metadata": {},
   "outputs": [],
   "source": [
    "def scrape_content(xpath, content_type='text', max_retries=3, timeout=10):\n",
    "    for retry in range(max_retries):\n",
    "        try:\n",
    "            \n",
    "\n",
    "            # Attendre que l'élément soit présent dans le DOM\n",
    "            element_present = EC.presence_of_element_located((By.XPATH, xpath))\n",
    "            WebDriverWait(driver, timeout).until(element_present)\n",
    "\n",
    "            # Trouver tous les éléments correspondant à l'XPath fourni\n",
    "            elements = driver.find_elements(By.XPATH, xpath)\n",
    "           \n",
    "\n",
    "            # Attendre que l'élément soit cliquable\n",
    "            WebDriverWait(driver, timeout).until(\n",
    "                EC.presence_of_all_elements_located((By.XPATH, xpath))\n",
    "            )\n",
    "\n",
    "            # Extraire le contenu spécifié pour chaque élément\n",
    "            if content_type == 'text':\n",
    "                result = [element.text for element in elements]\n",
    "            elif content_type == 'href':\n",
    "                result = [element.get_attribute('href') for element in elements]\n",
    "            else:\n",
    "                raise ValueError(\"Type de contenu non pris en charge. Utilisez 'text' ou 'href'.\")\n",
    "\n",
    "            return result\n",
    "\n",
    "        except TimeoutException:\n",
    "            print(f\"Timeout de {timeout} secondes atteint. Réessai {retry + 1}/{max_retries}.\")\n",
    "\n",
    "        except NoSuchElementException:\n",
    "            print(f\"Élément non trouvé. Vérifiez votre XPath. Réessai {retry + 1}/{max_retries}.\")\n",
    "\n",
    "        except StaleElementReferenceException:\n",
    "            print(f\"Stale Element Reference Exception. L'élément n'est plus attaché au DOM. Réessai {retry + 1}/{max_retries}.\")\n",
    "\n",
    "        except Exception as e:\n",
    "            print(f\"Une erreur s'est produite : {str(e)}\")\n",
    "\n",
    "    print(f\"Impossible de trouver et extraire le contenu après {max_retries} tentatives.\")\n",
    "    return []"
   ]
  },
  {
   "cell_type": "markdown",
   "id": "f87e45f4-c32a-4f0e-9808-412fb156a4e2",
   "metadata": {},
   "source": [
    "idée de fonction pour acceder vehicule:\n"
   ]
  },
  {
   "cell_type": "code",
   "execution_count": null,
   "id": "273f2985-8e48-4ae3-a1eb-8625751707ce",
   "metadata": {},
   "outputs": [],
   "source": [
    "def scraper_voitures(url):\n",
    "    driver_path = '/chemin/vers/le/chromedriver'\n",
    "    driver = webdriver.Chrome(executable_path=driver_path)\n",
    "\n",
    "    try:\n",
    "        driver.get(url)\n",
    "\n",
    "       \n",
    "        images_voitures = driver.find_elements(By.Xpath, '.classe_de_votre_image')\n",
    "\n",
    "        for image_voiture in images_voitures:\n",
    "            \n",
    "            ActionChains(driver).move_to_element(image_voiture).click().perform()\n",
    "\n",
    "            #\n",
    "            WebDriverWait(driver, 10).until(\n",
    "                EC.presence_of_element_located((By.CSS_SELECTOR, '.classe_de_votre_page_produit'))\n",
    "            )\n",
    "\n",
    "           \n",
    "            titre_page_produit = driver.find_element(By.CSS_SELECTOR, '.classe_du_titre_page_produit').text\n",
    "            print(f\"Titre de la page produit : {titre_page_produit}\")\n",
    "\n",
    "            # Revenir à la page précédente pour continuer le processus avec la voiture suivante\n",
    "            driver.execute_script(\"window.history.go(-1)\")"
   ]
  },
  {
   "cell_type": "markdown",
   "id": "4c528ea1-bf15-4267-8089-67b36894d3b6",
   "metadata": {},
   "source": [
    "## lien_ xpath utilisé"
   ]
  },
  {
   "cell_type": "code",
   "execution_count": 2,
   "id": "7ae4177e-9f88-4f06-89b3-c4c3efdf192f",
   "metadata": {},
   "outputs": [
    {
     "ename": "SyntaxError",
     "evalue": "invalid syntax (1125184552.py, line 1)",
     "output_type": "error",
     "traceback": [
      "\u001b[1;36m  File \u001b[1;32m\"C:\\Users\\SKONIECZNY\\AppData\\Local\\Temp\\ipykernel_63180\\1125184552.py\"\u001b[1;36m, line \u001b[1;32m1\u001b[0m\n\u001b[1;33m    Lien vehicule :\u001b[0m\n\u001b[1;37m         ^\u001b[0m\n\u001b[1;31mSyntaxError\u001b[0m\u001b[1;31m:\u001b[0m invalid syntax\n"
     ]
    }
   ],
   "source": [
    "Lien vehicule : \n",
    "    a class carinfo  on recupe le href de chaque a de cette class := on accede au feuille produit\n",
    "\n",
    "Feuille produit\n",
    "nom voiture   et marque: h3 class car-brand-name\n",
    "les diff carcs de bas : les li du ul de class brand-unit-item fn-clear\n",
    "prix : span  de class price\n",
    "caracteristiques : chaque caractere dans ul de class basic-item-ul := on recupere tout les li"
   ]
  },
  {
   "cell_type": "code",
   "execution_count": null,
   "id": "2730b1b2-1fa8-4d15-a3f0-11c280ad7c38",
   "metadata": {},
   "outputs": [],
   "source": []
  }
 ],
 "metadata": {
  "kernelspec": {
   "display_name": "Python 3 (ipykernel)",
   "language": "python",
   "name": "python3"
  },
  "language_info": {
   "codemirror_mode": {
    "name": "ipython",
    "version": 3
   },
   "file_extension": ".py",
   "mimetype": "text/x-python",
   "name": "python",
   "nbconvert_exporter": "python",
   "pygments_lexer": "ipython3",
   "version": "3.9.13"
  }
 },
 "nbformat": 4,
 "nbformat_minor": 5
}
