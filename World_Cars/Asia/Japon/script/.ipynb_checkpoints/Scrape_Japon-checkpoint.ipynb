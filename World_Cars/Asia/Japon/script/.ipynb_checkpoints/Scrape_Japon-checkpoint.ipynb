{
 "cells": [
  {
   "cell_type": "markdown",
   "id": "e6d00b9b-2686-46ba-b6f5-d98ccab75a9a",
   "metadata": {},
   "source": [
    "# Scrappe Japon\n",
    "\n",
    "site : https://www.goo-net.com/cgi-bin/fsearch/goo_used_search.cgi?category=USDN&_gl=1*6j0e3q*ga4_ga*NTA5NTcwNDEzLjE3MDA4NjI4MzI.*ga4_ga_R8J149LPHG*MTcwMDg2MjgzMS4xLjAuMTcwMDg2Mjg0Ny40NC4wLjA."
   ]
  },
  {
   "cell_type": "markdown",
   "id": "b656c797-4f5c-4b3f-8152-1b74cd45345b",
   "metadata": {},
   "source": [
    "# Import"
   ]
  },
  {
   "cell_type": "code",
   "execution_count": 1,
   "id": "78c9d9c8-81ba-41d1-9e6a-c3aed11b212b",
   "metadata": {},
   "outputs": [],
   "source": [
    "from selenium import webdriver\n",
    "from selenium.webdriver.common.keys import Keys\n",
    "from selenium.webdriver.support.ui import WebDriverWait\n",
    "from selenium.webdriver.common.by import By\n",
    "from selenium.webdriver.support import expected_conditions as EC\n",
    "from selenium.common.exceptions import TimeoutException\n",
    "import pandas as pd\n",
    "import urllib\n",
    "import re\n",
    "import requests\n",
    "import csv\n",
    "import os\n",
    "import time\n",
    "from concurrent.futures import ThreadPoolExecutor\n",
    "from selenium.webdriver.common.service import Service\n",
    "from selenium.webdriver.common.service import Service\n",
    "from fake_useragent import UserAgent\n",
    "from urllib3.exceptions import NewConnectionError\n",
    "import logging\n",
    "from datetime import datetime, timedelta\n",
    "from selenium.common.exceptions import ElementClickInterceptedException\n",
    "from selenium.webdriver.firefox.options import Options\n",
    "import pandas as pd \n",
    "import numpy as np \n",
    "\n",
    "import random\n",
    "from selenium.webdriver.common.action_chains import ActionChains\n",
    "from itertools import combinations\n",
    "import time\n",
    "import random\n",
    "from selenium import webdriver\n",
    "from selenium.webdriver.common.by import By\n",
    "from selenium.common.exceptions import NoSuchElementException, StaleElementReferenceException\n",
    "from fake_useragent import UserAgent"
   ]
  },
  {
   "cell_type": "markdown",
   "id": "f857ef91-3cf6-47ee-8816-40c00c936492",
   "metadata": {},
   "source": [
    "## Fonctions Annexe"
   ]
  },
  {
   "cell_type": "code",
   "execution_count": 3,
   "id": "df6beec5-33f0-4538-a042-61b9a939fac1",
   "metadata": {},
   "outputs": [
    {
     "ename": "IndentationError",
     "evalue": "unindent does not match any outer indentation level (<tokenize>, line 14)",
     "output_type": "error",
     "traceback": [
      "\u001b[1;36m  File \u001b[1;32m\"<tokenize>\"\u001b[1;36m, line \u001b[1;32m14\u001b[0m\n\u001b[1;33m    on\u001b[0m\n\u001b[1;37m    ^\u001b[0m\n\u001b[1;31mIndentationError\u001b[0m\u001b[1;31m:\u001b[0m unindent does not match any outer indentation level\n"
     ]
    }
   ],
   "source": [
    "def click_button(driver, xpath, timeout=10, max_retries=3):\n",
    "    for retry in range(max_retries):\n",
    "        try:\n",
    "            \n",
    "            bouton = WebDriverWait(driver, timeout).until(\n",
    "                EC.presence_of_element_located((By.XPATH, xpath))\n",
    "            )\n",
    "\n",
    "            \n",
    "            WebDriverWait(driver, timeout).until(\n",
    "                EC.element_to_be_clickable((By.XPATH, xpath))\n",
    "            )\n",
    "\n",
    "           on\n",
    "            bouton.click()\n",
    "\n",
    "            print(\"Le bouton a été cliqué avec succès.\")\n",
    "            return True  #\n",
    "\n",
    "        except TimeoutException:\n",
    "            print(f\"Timeout de {timeout} secondes atteint. Réessai {retry + 1}/{max_retries}.\")\n",
    "\n",
    "        except StaleElementReferenceException:\n",
    "            print(f\"Stale Element Reference Exception. Réessai {retry + 1}/{max_retries}.\")\n",
    "\n",
    "    print(f\"Impossible de trouver et cliquer sur le bouton après {max_retries} tentatives.\")\n",
    "    return False"
   ]
  },
  {
   "cell_type": "code",
   "execution_count": 4,
   "id": "302f6e78-8ee1-411f-900f-b32cc36332f0",
   "metadata": {},
   "outputs": [],
   "source": [
    "def scrape_content(xpath, content_type='text', max_retries=3, timeout=10):\n",
    "    for retry in range(max_retries):\n",
    "        try:\n",
    "            \n",
    "\n",
    "            # Attendre que l'élément soit présent dans le DOM\n",
    "            element_present = EC.presence_of_element_located((By.XPATH, xpath))\n",
    "            WebDriverWait(driver, timeout).until(element_present)\n",
    "\n",
    "            # Trouver tous les éléments correspondant à l'XPath fourni\n",
    "            elements = driver.find_elements(By.XPATH, xpath)\n",
    "           \n",
    "\n",
    "            # Attendre que l'élément soit cliquable\n",
    "            WebDriverWait(driver, timeout).until(\n",
    "                EC.presence_of_all_elements_located((By.XPATH, xpath))\n",
    "            )\n",
    "\n",
    "            # Extraire le contenu spécifié pour chaque élément\n",
    "            if content_type == 'text':\n",
    "                result = [element.text for element in elements]\n",
    "            elif content_type == 'href':\n",
    "                result = [element.get_attribute('href') for element in elements]\n",
    "            else:\n",
    "                raise ValueError(\"Type de contenu non pris en charge. Utilisez 'text' ou 'href'.\")\n",
    "\n",
    "            return result\n",
    "\n",
    "        except TimeoutException:\n",
    "            print(f\"Timeout de {timeout} secondes atteint. Réessai {retry + 1}/{max_retries}.\")\n",
    "\n",
    "        except NoSuchElementException:\n",
    "            print(f\"Élément non trouvé. Vérifiez votre XPath. Réessai {retry + 1}/{max_retries}.\")\n",
    "\n",
    "        except StaleElementReferenceException:\n",
    "            print(f\"Stale Element Reference Exception. L'élément n'est plus attaché au DOM. Réessai {retry + 1}/{max_retries}.\")\n",
    "\n",
    "        except Exception as e:\n",
    "            print(f\"Une erreur s'est produite : {str(e)}\")\n",
    "\n",
    "    print(f\"Impossible de trouver et extraire le contenu après {max_retries} tentatives.\")\n",
    "    return []"
   ]
  },
  {
   "cell_type": "markdown",
   "id": "71377213-3eb4-4a6b-9698-fd1343f6f490",
   "metadata": {},
   "source": [
    "## lien_ xpath utilisé"
   ]
  },
  {
   "cell_type": "code",
   "execution_count": null,
   "id": "524594ab-a35f-40f2-874a-13798dedac0a",
   "metadata": {},
   "outputs": [],
   "source": [
    "lien pour touts les produits :\n",
    "    dans les h2 : div de class car_name excllink := on recupe les hrefs sous forme de liste\n",
    "    \n",
    "Dans fiche prduit:\n",
    "    Marque + modele : dans div de class hdBlockTop := span de class mainTit := text =  marque\n",
    "                                                    := modele si on recupe le texte\n",
    "    prix : div de class num-right := span de class num bold red =  on recupe le texte\n",
    "    \n",
    "    dans div class statusBlock tout recupe ( caracteristiques)\n",
    "    les status bloc de 4 à 7 . recuperer  les li qui nont pas le terme off dans leur class"
   ]
  }
 ],
 "metadata": {
  "kernelspec": {
   "display_name": "Python 3 (ipykernel)",
   "language": "python",
   "name": "python3"
  },
  "language_info": {
   "codemirror_mode": {
    "name": "ipython",
    "version": 3
   },
   "file_extension": ".py",
   "mimetype": "text/x-python",
   "name": "python",
   "nbconvert_exporter": "python",
   "pygments_lexer": "ipython3",
   "version": "3.9.13"
  }
 },
 "nbformat": 4,
 "nbformat_minor": 5
}
