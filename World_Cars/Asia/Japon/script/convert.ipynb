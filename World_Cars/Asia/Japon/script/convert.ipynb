{
 "cells": [
  {
   "cell_type": "markdown",
   "metadata": {},
   "source": [
    "# Convert CSV to Parquet"
   ]
  },
  {
   "cell_type": "code",
   "execution_count": null,
   "metadata": {
    "vscode": {
     "languageId": "plaintext"
    }
   },
   "outputs": [],
   "source": [
    "import pandas as pd\n",
    "import pyarrow as pa\n",
    "import pyarrow.parquet as pq"
   ]
  },
  {
   "cell_type": "code",
   "execution_count": null,
   "metadata": {
    "vscode": {
     "languageId": "plaintext"
    }
   },
   "outputs": [],
   "source": [
    "# metre path ton directory de fichier\n",
    "csv_directory = ''  \n",
    "\n",
    "# loop tout les csvh\n",
    "for csv_file in os.listdir(csv_directory):\n",
    "    if csv_file.endswith(\".csv\"):\n",
    "        # construit full path\n",
    "        csv_path = os.path.join(csv_directory, csv_file)\n",
    "\n",
    "        # creer df\n",
    "        df = pd.read_csv(csv_path)\n",
    "\n",
    "        # converti df to table\n",
    "        table = pa.Table.from_pandas(df)\n",
    "\n",
    "        # creer parquet path\n",
    "        parquet_file = os.path.splitext(csv_path)[0] + '.parquet'\n",
    "\n",
    "        # ecrit le tablea arrrow en parquet\n",
    "        pq.write_table(table, parquet_file)\n",
    "\n",
    "        # sup csv initial\n",
    "        os.remove(csv_path)\n",
    "\n",
    "print(\"Conversion complete.\")"
   ]
  }
 ],
 "metadata": {
  "language_info": {
   "name": "python"
  }
 },
 "nbformat": 4,
 "nbformat_minor": 2
}
