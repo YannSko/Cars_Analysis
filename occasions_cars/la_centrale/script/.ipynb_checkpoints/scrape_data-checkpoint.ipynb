{
 "cells": [
  {
   "cell_type": "markdown",
   "metadata": {},
   "source": [
    "Lien du site : \n",
    "https://www.lacentrale.fr/auto-occasion-annonce-69113195868.html"
   ]
  },
  {
   "cell_type": "markdown",
   "metadata": {},
   "source": [
    "# Scrappe la centrale\n"
   ]
  },
  {
   "cell_type": "markdown",
   "metadata": {},
   "source": [
    "### Import"
   ]
  },
  {
   "cell_type": "code",
   "execution_count": 23,
   "metadata": {
    "vscode": {
     "languageId": "plaintext"
    }
   },
   "outputs": [],
   "source": [
    "from selenium import webdriver\n",
    "from selenium.webdriver.common.keys import Keys\n",
    "from selenium.webdriver.support.ui import WebDriverWait\n",
    "from selenium.webdriver.common.by import By\n",
    "from selenium.webdriver.support import expected_conditions as EC\n",
    "from selenium.common.exceptions import TimeoutException\n",
    "import pandas as pd\n",
    "import urllib\n",
    "import re\n",
    "import requests\n",
    "import csv\n",
    "import time\n",
    "\n",
    "from selenium.webdriver.common.service import Service\n",
    "from selenium.webdriver.common.service import Service\n",
    "from fake_useragent import UserAgent\n",
    "from urllib3.exceptions import NewConnectionError\n",
    "import logging\n",
    "from datetime import datetime, timedelta\n",
    "from selenium.common.exceptions import ElementClickInterceptedException\n",
    "\n",
    "import pandas as pd \n",
    "import numpy as np \n",
    "\n",
    "import random\n",
    "from selenium.webdriver.common.action_chains import ActionChains\n",
    "from itertools import combinations"
   ]
  },
  {
   "cell_type": "markdown",
   "metadata": {},
   "source": [
    "### Scrappe"
   ]
  },
  {
   "cell_type": "markdown",
   "metadata": {},
   "source": [
    "Fake Action"
   ]
  },
  {
   "cell_type": "code",
   "execution_count": 24,
   "metadata": {},
   "outputs": [],
   "source": [
    "def action_aleatoire(driver):\n",
    "    actions_possibles = [\"scroll\", \"click_button\", \"fill_text\"]\n",
    "    action_choisie = random.choice(actions_possibles)\n",
    "\n",
    "    # Enregistrer la position actuelle de la page\n",
    "    current_scroll_position = driver.execute_script(\"return window.pageYOffset;\")\n",
    "\n",
    "    if action_choisie == \"scroll\":\n",
    "        # Action aléatoire : Faites défiler la page vers le bas\n",
    "        driver.execute_script(\"window.scrollTo(0, document.body.scrollHeight);\")\n",
    "    elif action_choisie == \"click_button\":\n",
    "        # Action aléatoire : Cliquez sur un élément aléatoire (par exemple, un bouton de tri)\n",
    "        wait = WebDriverWait(driver, 10)\n",
    "        elements = wait.until(EC.presence_of_all_elements_located((By.XPATH, \".//button[@class='Iqt3 Iqt3-mod-bold Button-No-Standard-Style Iqt3-mod-variant-outline Iqt3-mod-theme-none Iqt3-mod-shape-rounded-small Iqt3-mod-shape-mod-default Iqt3-mod-spacing-default Iqt3-mod-size-default']\")))\n",
    "        \n",
    "        if elements:\n",
    "            random_button = random.choice(elements)\n",
    "            try:\n",
    "                random_button.click()\n",
    "            except ElementClickInterceptedException:\n",
    "                pass  # Gérer l'exception, par exemple, en ne faisant rien\n",
    "\n",
    "    elif action_choisie == \"fill_text\":\n",
    "        # Action aléatoire : Remplissez un champ de texte (par exemple, une recherche)\n",
    "        wait = WebDriverWait(driver, 10)\n",
    "        try:\n",
    "            search_input = wait.until(EC.visibility_of_element_located((By.XPATH, \".//input[@class='k_my-input']\")))\n",
    "            search_terms = [\"Amsterdam\", \"Brussels\", \"Dublin\", \"Berlin\", \"Copenhagen\", \"Oslo\", \"Stockholm\", \"Helsinki\", \"Reykjavik\", \"Moscow\", \"Warsaw\", \"Paris\", \"Rome\", \"Madrid\", \"London\", \"Lisbon\", \"Prague\", \"Budapest\", \"Vienna\", \"Athens\", \"Bucharest\", \"Sofia\", \"Belgrade\", \"Zagreb\", \"Tirana\", \"Skopje\", \"Podgorica\", \"Pristina\", \"Tallinn\", \"Riga\", \"Vilnius\", \"Chișinău\", \"Minsk\", \"Kyiv\", \"Tbilisi\", \"Yerevan\", \"Baku\", \"Ankara\", \"Ercan\", \"Valletta\", \"Vatican City\", \"Monaco\", \"Rimini\"]\n",
    "            random_search_term = random.choice(search_terms)\n",
    "            search_input.send_keys(random_search_term)\n",
    "        except Exception as e:\n",
    "            pass  # Gérer l'exception, par exemple, en ne faisant rien\n",
    "\n",
    "    # Revenir à la position enregistrée\n",
    "    driver.execute_script(f\"window.scrollTo(0, {current_scroll_position});\")"
   ]
  },
  {
   "cell_type": "markdown",
   "metadata": {},
   "source": [
    "Scrape"
   ]
  },
  {
   "cell_type": "code",
   "execution_count": 32,
   "metadata": {
    "tags": []
   },
   "outputs": [
    {
     "name": "stdout",
     "output_type": "stream",
     "text": [
      "Lien trouvé : https://www.lacentrale.fr/auto-occasion-annonce-69112977965.html\n",
      "Nom du véhicule: OPEL CORSA VI\n",
      "Carac: 1.2 75 EDITION BUSINESS\n"
     ]
    },
    {
     "ename": "NameError",
     "evalue": "name 'null' is not defined",
     "output_type": "error",
     "traceback": [
      "\u001b[1;31m---------------------------------------------------------------------------\u001b[0m",
      "\u001b[1;31mNameError\u001b[0m                                 Traceback (most recent call last)",
      "\u001b[1;32m~\\AppData\\Local\\Temp\\ipykernel_14032\\3149311510.py\u001b[0m in \u001b[0;36m<module>\u001b[1;34m\u001b[0m\n\u001b[0;32m     80\u001b[0m                     \u001b[1;32mfor\u001b[0m \u001b[0melement\u001b[0m \u001b[1;32min\u001b[0m \u001b[0melements\u001b[0m\u001b[1;33m:\u001b[0m\u001b[1;33m\u001b[0m\u001b[1;33m\u001b[0m\u001b[0m\n\u001b[0;32m     81\u001b[0m                         \u001b[1;31m# Vérifier s'il s'agit de la cylindrée du moteur (exprimée en centimètres cubes)\u001b[0m\u001b[1;33m\u001b[0m\u001b[1;33m\u001b[0m\u001b[0m\n\u001b[1;32m---> 82\u001b[1;33m                         \u001b[1;32mif\u001b[0m \u001b[0melement\u001b[0m\u001b[1;33m.\u001b[0m\u001b[0mreplace\u001b[0m\u001b[1;33m(\u001b[0m\u001b[1;34m\".\"\u001b[0m\u001b[1;33m,\u001b[0m \u001b[1;34m\"\"\u001b[0m\u001b[1;33m)\u001b[0m\u001b[1;33m.\u001b[0m\u001b[0misdigit\u001b[0m\u001b[1;33m(\u001b[0m\u001b[1;33m)\u001b[0m \u001b[1;32mand\u001b[0m \u001b[1;32mnot\u001b[0m \u001b[0mnull\u001b[0m\u001b[1;33m:\u001b[0m\u001b[1;33m\u001b[0m\u001b[1;33m\u001b[0m\u001b[0m\n\u001b[0m\u001b[0;32m     83\u001b[0m                             \u001b[0mcylindree_moteur\u001b[0m \u001b[1;33m=\u001b[0m \u001b[0melement\u001b[0m\u001b[1;33m\u001b[0m\u001b[1;33m\u001b[0m\u001b[0m\n\u001b[0;32m     84\u001b[0m                         \u001b[1;31m# Vérifier s'il s'agit du type de moteur (contient des lettres)\u001b[0m\u001b[1;33m\u001b[0m\u001b[1;33m\u001b[0m\u001b[0m\n",
      "\u001b[1;31mNameError\u001b[0m: name 'null' is not defined"
     ]
    }
   ],
   "source": [
    "import time\n",
    "import random\n",
    "from selenium import webdriver\n",
    "from selenium.webdriver.common.by import By\n",
    "from selenium.common.exceptions import NoSuchElementException, StaleElementReferenceException\n",
    "from fake_useragent import UserAgent\n",
    "\n",
    "# Configurations du navigateur\n",
    "ua = UserAgent()\n",
    "user_agent = ua.random\n",
    "options = webdriver.FirefoxOptions()\n",
    "options.add_argument('--headless')\n",
    "options.add_argument(f'user-agent={user_agent}')\n",
    "\n",
    "# Initialisation du navigateur\n",
    "driver = webdriver.Firefox(options=options)\n",
    "base_url = \"https://www.lacentrale.fr/listing?makesModelsCommercialNames=&options=&page=\"\n",
    "xpath_expression = \"//a[contains(@class, 'Vehiculecard_Vehiculecard_vehiculeCard Containers_Containers_containers Containers_Containers_borderRadius Containers_Containers_darkShadowWide')]\"\n",
    "\n",
    "# Numéro de la première page à visiter\n",
    "current_page = 0\n",
    "\n",
    "# Boucle pour parcourir les pages\n",
    "while True:\n",
    "    # Construire l'URL de la page actuelle\n",
    "    all_links = []\n",
    "    url = base_url + str(current_page)\n",
    "    time.sleep(random.uniform(2, 5))\n",
    "\n",
    "    # Charger la page web\n",
    "    driver.get(url)\n",
    "\n",
    "    try:\n",
    "        # Insérer ici le code pour extraire les liens ou effectuer d'autres opérations sur la page\n",
    "        links = driver.find_elements(By.XPATH, xpath_expression)\n",
    "\n",
    "        # Ajouter les liens à la liste\n",
    "        all_links.extend(link.get_attribute(\"href\") for link in links)\n",
    "\n",
    "        # Parcourir chaque lien pour effectuer des opérations\n",
    "        for link in all_links:\n",
    "            try:\n",
    "                # Afficher le lien trouvé\n",
    "                print(\"Lien trouvé :\", link)\n",
    "\n",
    "                # Accéder à la page du lien\n",
    "                driver.get(link)\n",
    "                time.sleep(random.uniform(2, 5))\n",
    "\n",
    "                # Insérer ici le code pour effectuer des opérations sur la page du lien\n",
    "\n",
    "                try:\n",
    "                    nom_xpath = \"//div[contains(@class, 'Text_Text_text SummaryInformation_title__5CYhW Text_Text_headline3')]\"\n",
    "                    # Insérer ici le code pour extraire le texte de la div spécifiée\n",
    "                    nom = driver.find_element(By.XPATH, nom_xpath).text\n",
    "                    print(\"Nom du véhicule:\", nom)\n",
    "                    time.sleep(random.uniform(2, 5))\n",
    "                except NoSuchElementException:\n",
    "                    # Si la div n'est pas trouvée sur la page du lien, afficher un message\n",
    "                    nom = \" \"\n",
    "                    print(\"aucun nom trouvé\")\n",
    "                try:\n",
    "                    carac_xpath = \"//div[contains(@class, 'Text_Text_text SummaryInformation_subtitle__M7MAb Text_Text_body2')]\"\n",
    "                    carac = driver.find_element(By.XPATH, carac_xpath).text\n",
    "                    print(\"Carac:\", carac)\n",
    "\n",
    "                    # Diviser le texte en éléments\n",
    "                    elements = carac.split()\n",
    "\n",
    "                    # Variables pour stocker les informations\n",
    "                    cylindree_moteur = \"\"\n",
    "                    type_moteur = \"\"\n",
    "                    puissance = \"\"\n",
    "                    finition = \"\"\n",
    "\n",
    "                    # Utiliser un indicateur pour savoir quel type d'information on traite actuellement\n",
    "                    current_type = None\n",
    "\n",
    "                    # Parcourir les éléments et attribuer aux variables appropriées\n",
    "                    for element in elements:\n",
    "                        # Vérifier s'il s'agit de la cylindrée du moteur (exprimée en centimètres cubes)\n",
    "                        if element.replace(\".\", \"\").isdigit() and not cylindree_moteur:\n",
    "                            cylindree_moteur = element\n",
    "                        # Vérifier s'il s'agit du type de moteur (contient des lettres)\n",
    "                        elif any(char.isalpha() for char in element) and not type_moteur:\n",
    "                            type_moteur = element\n",
    "                        # Vérifier s'il s'agit de la puissance (contient des chiffres)\n",
    "                        elif element.isdigit() and not puissance:\n",
    "                            puissance = element\n",
    "                        # Si ce n'est ni la cylindrée, ni le type, ni la puissance, c'est probablement la finition\n",
    "                        elif not finition:\n",
    "                            finition += element + \" \"\n",
    "\n",
    "                    # Afficher les résultats\n",
    "                    print(\"Cylindrée du moteur:\", cylindree_moteur.strip())\n",
    "                    print(\"Type de moteur:\", type_moteur.strip())\n",
    "                    print(\"Puissance:\", puissance.strip())\n",
    "                    print(\"Finition:\", finition.strip())\n",
    "\n",
    "                except NoSuchElementException:\n",
    "                    # Si la div n'est pas trouvée sur la page du lien, afficher un message\n",
    "                    carac = \" \"\n",
    "                    print(\"Carac non trouvé\")\n",
    "\n",
    "            except StaleElementReferenceException:\n",
    "                # Si l'élément de lien est obsolète, afficher un message\n",
    "                print(\"StaleElementReferenceException pour le lien :\", link)\n",
    "\n",
    "    except NoSuchElementException:\n",
    "        # Si l'élément n'est pas trouvé, cela signifie probablement que la page n'existe pas\n",
    "        print(\"Fin de la boucle : La page\", current_page, \"n'existe pas.\")\n",
    "        break\n",
    "\n",
    "    # Passer à la page suivante\n",
    "    current_page += 1\n",
    "\n",
    "# Fermer le navigateur à la fin\n",
    "driver.quit()\n"
   ]
  },
  {
   "cell_type": "code",
   "execution_count": null,
   "metadata": {},
   "outputs": [],
   "source": []
  }
 ],
 "metadata": {
  "kernelspec": {
   "display_name": "Python 3 (ipykernel)",
   "language": "python",
   "name": "python3"
  },
  "language_info": {
   "codemirror_mode": {
    "name": "ipython",
    "version": 3
   },
   "file_extension": ".py",
   "mimetype": "text/x-python",
   "name": "python",
   "nbconvert_exporter": "python",
   "pygments_lexer": "ipython3",
   "version": "3.9.13"
  }
 },
 "nbformat": 4,
 "nbformat_minor": 4
}
