{
 "cells": [
  {
   "cell_type": "markdown",
   "metadata": {},
   "source": [
    "# Convert CSV to Parquet"
   ]
  },
  {
   "cell_type": "code",
   "execution_count": null,
   "metadata": {
    "vscode": {
     "languageId": "plaintext"
    }
   },
   "outputs": [],
   "source": [
    "import pandas as pd\n",
    "import pyarrow as pa\n",
    "import pyarrow.parquet as pq"
   ]
  },
  {
   "cell_type": "code",
   "execution_count": null,
   "metadata": {
    "vscode": {
     "languageId": "plaintext"
    }
   },
   "outputs": [],
   "source": [
    "# metre path ton directory de fichier\n",
    "csv_directory = ''  \n",
    "\n",
    "# loop tout les csvh\n",
    "for csv_file in os.listdir(csv_directory):\n",
    "    if csv_file.endswith(\".csv\"):\n",
    "        # construit full path\n",
    "        csv_path = os.path.join(csv_directory, csv_file)\n",
    "\n",
    "        # creer df\n",
    "        df = pd.read_csv(csv_path)\n",
    "\n",
    "        # converti df to table\n",
    "        table = pa.Table.from_pandas(df)\n",
    "\n",
    "        # creer parquet path\n",
    "        parquet_file = os.path.splitext(csv_path)[0] + '.parquet'\n",
    "\n",
    "        # ecrit le tablea arrrow en parquet\n",
    "        pq.write_table(table, parquet_file)\n",
    "\n",
    "        # sup csv initial\n",
    "        os.remove(csv_path)\n",
    "\n",
    "print(\"Conversion complete.\")"
   ]
  },
  {
   "cell_type": "code",
   "execution_count": 1,
   "metadata": {},
   "outputs": [
    {
     "name": "stdout",
     "output_type": "stream",
     "text": [
      "Colonnes modele:\n",
      "[nan 'AudiQ7V6 3.0QUATTRO' '34 400 €' ... 'VolkswagenT-cross1.0R LINE'\n",
      " 'FordFocus sw' '12 699 €']\n",
      "\n",
      "\n",
      "Colonnes prix:\n",
      "[nan]\n",
      "\n",
      "\n",
      "Colonnes date_loc:\n",
      "[' 20.10.2023 ALLEMAGNEDétail' ' 22.10.2023 ALLEMAGNEDétail'\n",
      " ' 23.10.2023 ALLEMAGNEDétail' ' 24.10.2023 ALLEMAGNEDétail'\n",
      " ' 25.10.2023 ALLEMAGNEDétail' ' 27.09.2023 ALLEMAGNEDétail'\n",
      " ' 12.11.2023 ESPAGNEDétail' nan]\n",
      "\n",
      "\n",
      "Colonnes info:\n",
      "['ELECTRIQUE10 Km2023AUTOMATIQUE18437DEVIS ASSURANCEIMPORTEZ CETTE VOITUREVENDEZ'\n",
      " 'ELECTRIQUE500 Km2023AUTOMATIQUE18437DEVIS ASSURANCEIMPORTEZ CETTE VOITUREVENDEZ'\n",
      " 'ESSENCE16 500 Km2022AUTOMATIQUE18437DEVIS ASSURANCEIMPORTEZ CETTE VOITUREVENDEZ'\n",
      " 'HYBRIDE15 400 Km2022AUTOMATIQUE18437DEVIS ASSURANCEIMPORTEZ CETTE VOITUREVENDEZ'\n",
      " 'HYBRIDE22 700 Km2021AUTOMATIQUE18437DEVIS ASSURANCEIMPORTEZ CETTE VOITUREVENDEZ'\n",
      " 'ESSENCE7 727 Km2022MANUELLE18437DEVIS ASSURANCEIMPORTEZ CETTE VOITUREVENDEZ'\n",
      " 'ESSENCE240 000 Km2011MANUELLE18437DEVIS ASSURANCEIMPORTEZ CETTE VOITUREVENDEZ'\n",
      " 'ESSENCE102 168 Km2013AUTOMATIQUE18437DEVIS ASSURANCEIMPORTEZ CETTE VOITUREVENDEZ'\n",
      " 'ESSENCE187 000 Km2004MANUELLE18437DEVIS ASSURANCEVENDEZ'\n",
      " 'ESSENCE169 000 Km2012MANUELLE18437DEVIS ASSURANCEVENDEZ'\n",
      " 'GNV215 000 Km2009MANUELLE18437DEVIS ASSURANCEVENDEZ'\n",
      " 'ESSENCE198 500 Km2012AUTOMATIQUE18437DEVIS ASSURANCEIMPORTEZ CETTE VOITUREVENDEZ'\n",
      " 'DIESEL79 951 Km2016AUTOMATIQUE18437DEVIS ASSURANCEIMPORTEZ CETTE VOITUREVENDEZ'\n",
      " 'ESSENCE195 000 Km1983MANUELLE18437DEVIS ASSURANCEIMPORTEZ CETTE VOITUREVENDEZ'\n",
      " 'DIESEL135 283 Km2016MANUELLE18437DEVIS ASSURANCEIMPORTEZ CETTE VOITUREVENDEZ'\n",
      " 'DIESEL111 112 Km2018MANUELLE18437DEVIS ASSURANCEIMPORTEZ CETTE VOITUREVENDEZ'\n",
      " 'DIESEL98 335 Km2017MANUELLE18437DEVIS ASSURANCEVENDEZ'\n",
      " 'ESSENCE145 641 Km2007MANUELLE18437DEVIS ASSURANCEVENDEZ'\n",
      " 'ESSENCE92 782 Km2018MANUELLE18437DEVIS ASSURANCEIMPORTEZ CETTE VOITUREVENDEZ'\n",
      " 'ESSENCE33 829 Km2021AUTOMATIQUE18437DEVIS ASSURANCEIMPORTEZ CETTE VOITUREVENDEZ'\n",
      " 'ESSENCE52 489 Km2022MANUELLE18437DEVIS ASSURANCEIMPORTEZ CETTE VOITUREVENDEZ'\n",
      " 'DIESEL129 987 Km2019MANUELLE18437DEVIS ASSURANCEIMPORTEZ CETTE VOITUREVENDEZ'\n",
      " 'DIESEL200 000 Km2010MANUELLE18439DEVIS ASSURANCEVENDEZ'\n",
      " 'ESSENCE52 600 Km1979MANUELLE28003DEVIS ASSURANCEVENDEZ' nan]\n",
      "\n",
      "\n"
     ]
    }
   ],
   "source": [
    "import pandas as pd\n",
    "\n",
    "# Remplacez 'votre_fichier.csv' par le chemin vers votre fichier CSV\n",
    "fichier_csv = 'fr2.csv'\n",
    "\n",
    "# Chargez le fichier CSV dans un DataFrame\n",
    "donnees = pd.read_csv(fichier_csv)\n",
    "\n",
    "# Affichez les valeurs uniques de chaque colonne\n",
    "for colonne in donnees.columns:\n",
    "    valeurs_uniques = donnees[colonne].unique()\n",
    "    print(f\"Colonnes {colonne}:\")\n",
    "    print(valeurs_uniques)\n",
    "    print(\"\\n\")"
   ]
  },
  {
   "cell_type": "code",
   "execution_count": null,
   "metadata": {},
   "outputs": [],
   "source": []
  }
 ],
 "metadata": {
  "kernelspec": {
   "display_name": "Python 3 (ipykernel)",
   "language": "python",
   "name": "python3"
  },
  "language_info": {
   "codemirror_mode": {
    "name": "ipython",
    "version": 3
   },
   "file_extension": ".py",
   "mimetype": "text/x-python",
   "name": "python",
   "nbconvert_exporter": "python",
   "pygments_lexer": "ipython3",
   "version": "3.9.13"
  }
 },
 "nbformat": 4,
 "nbformat_minor": 4
}
